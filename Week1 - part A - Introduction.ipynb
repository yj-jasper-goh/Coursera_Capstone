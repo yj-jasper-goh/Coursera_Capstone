{
 "cells": [
  {
   "cell_type": "markdown",
   "metadata": {},
   "source": [
    "## Setting up a retail services business chain in Singapore at the locations of various Mass Rapid Transit MRT (Train/Metro/Subway) stations"
   ]
  },
  {
   "cell_type": "markdown",
   "metadata": {},
   "source": [
    "# Introduction"
   ]
  },
  {
   "cell_type": "markdown",
   "metadata": {},
   "source": [
    "With a population of around 5.7 million people in 2019 and a land area of approximately 720 square kilometers, Singapore is the second most densely populated country in the world, after Monaco. This is not expected to ease in the near future, with the population of Singapore estimated to grow to 6.52 million people in 2035. (https://www.statista.com/statistics/778525/singapore-population-density/) Car ownership in Singapore is approximately 11% with about 640 thousand private cars in Singapore. There are about 140 thousand motorcycles.(https://www.budgetdirect.com.sg/car-insurance/research/car-ownership-singapore) It could be inferred that at least 60% of the population commute by public transport with average daily ridership of more than 3.5 million in 2019. The availability of disposable incomes of the average population and the consumption trends of take away food orders, procurement of essential services like grooming, laundry, repair, tailoring, procurement of daily household products in smaller quantities, pharmaceutical items, dental and healthcare services on the go has all increased the need for retail locations to be located at close proximity of the daily commuting routes. \n",
    "\n",
    "As of January 2020, the Singapore MRT network encompasses 203 kilometres with 122 stations in operation, spread across six lines. The network is expected to double to a total length of almost 400 kilometres by 2040 as a result of ongoing expansion works to its six existing lines and the construction of three new lines. (https://en.wikipedia.org/wiki/Mass_Rapid_Transit_(Singapore)#cite_note-16) Although the recent covid situation has decreased the demand for commuting within Singapore in the short term, the long term trend of the governmental policy to further enhance the public transportation infrastructure in a bid to decrease private car ownership is likely to not change. \n",
    "\n",
    "Any business conglomerate and/or retail chain store owner that is looking to enter the retail market or further extend the retail presence in Singapore should definitively not overlook the need to have a retail chain store presence at the locations of the various MRT stations which are often the locations of major bus interchanges and shopping malls. For example, Japan’s largest train operator East Japan Railway Company shall open retail shops in 27 of the 32 stations of a new MRT line in Singapore. (https://www.todayonline.com/singapore/japans-largest-train-operator-open-shops-thomson-east-coast-line-stations) The need to analyse the retail services landscape of the areas that are in close proximity of MRT stations is an interesting business proposal that could be further enhanced with data."
   ]
  },
  {
   "cell_type": "code",
   "execution_count": null,
   "metadata": {},
   "outputs": [],
   "source": []
  }
 ],
 "metadata": {
  "kernelspec": {
   "display_name": "Python",
   "language": "python",
   "name": "conda-env-python-py"
  },
  "language_info": {
   "codemirror_mode": {
    "name": "ipython",
    "version": 3
   },
   "file_extension": ".py",
   "mimetype": "text/x-python",
   "name": "python",
   "nbconvert_exporter": "python",
   "pygments_lexer": "ipython3",
   "version": "3.6.11"
  }
 },
 "nbformat": 4,
 "nbformat_minor": 4
}
