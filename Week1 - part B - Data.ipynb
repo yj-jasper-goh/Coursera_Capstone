{
 "cells": [
  {
   "cell_type": "markdown",
   "metadata": {},
   "source": [
    "## Setting up a retail services business chain in Singapore at the locations of various Mass Rapid Transit MRT (Train/Metro/Subway) stations"
   ]
  },
  {
   "cell_type": "markdown",
   "metadata": {},
   "source": [
    "# Introduction"
   ]
  },
  {
   "cell_type": "markdown",
   "metadata": {},
   "source": [
    "With a population of around 5.7 million people in 2019 and a land area of approximately 720 square kilometers, Singapore is the second most densely populated country in the world, after Monaco. This is not expected to ease in the near future, with the population of Singapore estimated to grow to 6.52 million people in 2035. (https://www.statista.com/statistics/778525/singapore-population-density/) Car ownership in Singapore is approximately 11% with about 640 thousand private cars in Singapore. There are about 140 thousand motorcycles.(https://www.budgetdirect.com.sg/car-insurance/research/car-ownership-singapore) It could be inferred that at least 60% of the population commute by public transport with average daily ridership of more than 3.5 million in 2019. The availability of disposable incomes of the average population and the consumption trends of take away food orders, procurement of essential services like grooming, laundry, repair, tailoring, procurement of daily household products in smaller quantities, pharmaceutical items, dental and healthcare services on the go has all increased the need for retail locations to be located at close proximity of the daily commuting routes. \n",
    "\n",
    "As of January 2020, the Singapore MRT network encompasses 203 kilometres with 122 stations in operation, spread across six lines. The network is expected to double to a total length of almost 400 kilometres by 2040 as a result of ongoing expansion works to its six existing lines and the construction of three new lines. (https://en.wikipedia.org/wiki/Mass_Rapid_Transit_(Singapore)#cite_note-16) Although the recent covid situation has decreased the demand for commuting within Singapore in the short term, the long term trend of the governmental policy to further enhance the public transportation infrastructure in a bid to decrease private car ownership is likely to not change. \n",
    "\n",
    "Any business conglomerate and/or retail chain store owner that is looking to enter the retail market or further extend the retail presence in Singapore should definitively not overlook the need to have a retail chain store presence at the locations of the various MRT stations which are often the locations of major bus interchanges and shopping malls. For example, Japan’s largest train operator East Japan Railway Company shall open retail shops in 27 of the 32 stations of a new MRT line in Singapore. (https://www.todayonline.com/singapore/japans-largest-train-operator-open-shops-thomson-east-coast-line-stations) The need to analyse the retail services landscape of the areas that are in close proximity of MRT stations is an interesting business proposal that could be further enhanced with data."
   ]
  },
  {
   "cell_type": "markdown",
   "metadata": {},
   "source": [
    "# Data"
   ]
  },
  {
   "cell_type": "markdown",
   "metadata": {},
   "source": [
    "\n",
    "For the purposes of this project we can look at the a few data sets available online. Available data includes:\n",
    "- locations of the MRT stations exits in a geojson file (Singapore Land Transport Authority) \n",
    "- locations and ratings data of retail services available in Foursquare\n",
    "- retail shop and event spaces available for tender/leasing (Singapore Mass Rapid Transit Corporation)\n",
    "- retail median rentals by street name 2020 Q2 (Singapore Urban Redevelopment Authority)\n",
    "\n",
    "The locations of the MRT station exits can be extracted into a dataframe. The location information of all the MRT station exits are inputs to which the Foursquare API shall extract all the available data of the locations and venue category of the various retail services of a limit of X number of venues within a radius of Y meters of the location. \n",
    "\n",
    "Subsequently the data returned by the Foursquare API could be clustered and investigated for any trends and patterns that may exist. I suspect that there might be a lack of Foursquare data capture in Singapore. Hence this particular project may be like any other real life scenarios and problem statements which suffers from a lack of structured data. \n",
    "\n",
    "Another aspect of the project could also delve into the viability of the implementation of the business plan by considering the commercial data of the retail shop and event spaces available for tender/leasing by the facilities owner Singapore Mass Rapid Transit Corporation. We could also look into the available data of the retail median rentals by street name 2020 Q2. Further more in-depth and specific technical analysis could be performed on these raw commercial data that is available to potentially produce the cash flow projections of this new business plan.\n",
    "\n",
    "One important aspect of the data science project is to obtain specific technical data from the persons/entities that might be interested in this project. We would need to collect the following data from the interested parties:\n",
    "- existing business structure and future intentions \n",
    "- time frame and expectations of implementing the new business plans \n",
    "- budget and available resources\n",
    "- any specific exclusions and restrictions\n",
    "\n",
    "The economic landscape of any highly urbanized and industrialized economies like Singapore shall ensue that only firms that possess certain comparative advantage in management and structural cost can sustain itself in the long term. Only the firms that enjoys certain economies of scale and scope can be a sustainable in this economic landscape.  There is a need to \"price in\" this sustainability factor when advising interested parties in this project. That is the main reason why collecting the specific technical data from the interested parties of this project is equally as important as collecting the raw commercial data and the relevant unstructured big data sets that is required for this project."
   ]
  }
 ],
 "metadata": {
  "kernelspec": {
   "display_name": "Python",
   "language": "python",
   "name": "conda-env-python-py"
  },
  "language_info": {
   "codemirror_mode": {
    "name": "ipython",
    "version": 3
   },
   "file_extension": ".py",
   "mimetype": "text/x-python",
   "name": "python",
   "nbconvert_exporter": "python",
   "pygments_lexer": "ipython3",
   "version": "3.6.11"
  }
 },
 "nbformat": 4,
 "nbformat_minor": 4
}
